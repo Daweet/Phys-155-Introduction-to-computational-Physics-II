{
 "cells": [
  {
   "cell_type": "markdown",
   "id": "522d9c50",
   "metadata": {},
   "source": [
    "# Chemical Kinetics\n",
    "\n",
    "Let us start working with a chemical kinetics network\n",
    "\n",
    "The ODE system under consideration is goverened by the following\n",
    "$\\frac{dC_A}{dt}=-k_1C_A$\n",
    "\n",
    "$\\frac{dC_B}{dt}=2k_1C_A-k_2C_B^2$\n",
    "\n",
    "$\\frac{dC_c}{dt}=\\frac{1}{2}k_2C_B^2$\n",
    "\n",
    "Intial conditions: $C_A(0)= 10M, k_1=0.92h^-1, k_2=0.08L mol^-1h^-1$"
   ]
  },
  {
   "cell_type": "code",
   "execution_count": 10,
   "id": "90e33fd2",
   "metadata": {},
   "outputs": [],
   "source": [
    "import numpy as np\n",
    "import matplotlib.pyplot as plt\n",
    "from scipy.integrate import solve_ivp"
   ]
  },
  {
   "cell_type": "code",
   "execution_count": 11,
   "id": "81ad1322",
   "metadata": {},
   "outputs": [],
   "source": [
    "def ODE3state(x, Y):#x is independent variable, Y is vector\n",
    "    CA, CB, CC = Y\n",
    "    k1, k2 = [0.92,0.08]\n",
    "    odes= np.array([-k1*CA, 2*k1*CA-k2*CB**2, 0.5*k2*CB**2])\n",
    "    return odes\n"
   ]
  },
  {
   "cell_type": "code",
   "execution_count": 12,
   "id": "a720459e",
   "metadata": {},
   "outputs": [
    {
     "name": "stderr",
     "output_type": "stream",
     "text": [
      "/Users/ramlijufar/opt/anaconda3/lib/python3.7/site-packages/scipy/integrate/_ivp/common.py:40: UserWarning: The following arguments have no effect for a chosen solver: `t_values`.\n",
      "  .format(\", \".join(\"`{}`\".format(x) for x in extraneous)))\n"
     ]
    }
   ],
   "source": [
    "domain = [0,8]\n",
    "init_values = [10,0,0]\n",
    "x_values = [0, 8.1,0.1]\n",
    "solu = solve_ivp(ODE3state,domain, init_values,t_values=x_values)\n",
    "t=solu.t\n",
    "CA, CB,CC =solu.y"
   ]
  },
  {
   "cell_type": "code",
   "execution_count": 16,
   "id": "7cf1bc21",
   "metadata": {},
   "outputs": [
    {
     "data": {
      "text/plain": [
       "<matplotlib.legend.Legend at 0x7fa2cd707710>"
      ]
     },
     "execution_count": 16,
     "metadata": {},
     "output_type": "execute_result"
    },
    {
     "data": {
      "image/png": "[encoded data removed]",
      "text/plain": [
       "<Figure size 288x288 with 1 Axes>"
      ]
     },
     "metadata": {
      "needs_background": "light"
     },
     "output_type": "display_data"
    }
   ],
   "source": [
    "fig, ax = plt.subplots(figsize=(4,4))\n",
    "ax.plot(t,CA, label='$C_A$')\n",
    "ax.plot(t,CB, label='$C_B$')\n",
    "ax.plot(t,CC, label='$C_C$')\n",
    "ax.set_title('$C_i(t)$')\n",
    "ax.set_xlabel('$t \\ [\\mathrm{h}]$')\n",
    "ax.set_ylabel('$C_i \\ [\\mathrm{M}]$')\n",
    "ax.set_xlim(0,8)\n",
    "ax.set_ylim(0,10)\n",
    "ax.legend()"
   ]
  },
  {
   "cell_type": "markdown",
   "id": "3f0dbab8",
   "metadata": {},
   "source": [
    "# Excerices: Can you improve the curves to be smoother than we see here."
   ]
  },
  {
   "cell_type": "code",
   "execution_count": 18,
   "id": "85ca89d4",
   "metadata": {},
   "outputs": [
    {
     "name": "stdout",
     "output_type": "stream",
     "text": [
      "Maximum concentration of B is 8.718194862944658M\n",
      "Time when the maximum concentration of B is obtained at 0.9774582982159572h\n"
     ]
    }
   ],
   "source": [
    "CB_maxval= CB.max()\n",
    "CB_maxval_time= t[CB.argmax()]\n",
    "print(f'Maximum concentration of B is {CB_maxval}M')\n",
    "print(f'Time when the maximum concentration of B is obtained at {CB_maxval_time}h')"
   ]
  },
  {
   "cell_type": "code",
   "execution_count": null,
   "id": "6fc016c9",
   "metadata": {},
   "outputs": [],
   "source": []
  }
 ],
 "metadata": {
  "kernelspec": {
   "display_name": "Python 3",
   "language": "python",
   "name": "python3"
  },
  "language_info": {
   "codemirror_mode": {
    "name": "ipython",
    "version": 3
   },
   "file_extension": ".py",
   "mimetype": "text/x-python",
   "name": "python",
   "nbconvert_exporter": "python",
   "pygments_lexer": "ipython3",
   "version": "3.7.6"
  }
 },
 "nbformat": 4,
 "nbformat_minor": 5
}
